{
 "cells": [
  {
   "cell_type": "code",
   "execution_count": 1,
   "id": "b9ade310",
   "metadata": {},
   "outputs": [],
   "source": [
    "import numpy as np\n",
    "import pandas as pd\n",
    "import matplotlib.pyplot as plt\n",
    "import seaborn as sns"
   ]
  },
  {
   "cell_type": "markdown",
   "id": "8b90c08f",
   "metadata": {},
   "source": [
    "## 1. Read the data set, clean the data and prepare a final dataset to be used for analysis"
   ]
  },
  {
   "cell_type": "markdown",
   "id": "2b489532",
   "metadata": {},
   "source": [
    "### Importing the dataset"
   ]
  },
  {
   "cell_type": "code",
   "execution_count": 2,
   "id": "a2eda0a1",
   "metadata": {},
   "outputs": [
    {
     "data": {
      "text/html": [
       "<div>\n",
       "<style scoped>\n",
       "    .dataframe tbody tr th:only-of-type {\n",
       "        vertical-align: middle;\n",
       "    }\n",
       "\n",
       "    .dataframe tbody tr th {\n",
       "        vertical-align: top;\n",
       "    }\n",
       "\n",
       "    .dataframe thead th {\n",
       "        text-align: right;\n",
       "    }\n",
       "</style>\n",
       "<table border=\"1\" class=\"dataframe\">\n",
       "  <thead>\n",
       "    <tr style=\"text-align: right;\">\n",
       "      <th></th>\n",
       "      <th>Tournament</th>\n",
       "      <th>Score</th>\n",
       "      <th>PlayedGames</th>\n",
       "      <th>WonGames</th>\n",
       "      <th>DrawnGames</th>\n",
       "      <th>LostGames</th>\n",
       "      <th>BasketScored</th>\n",
       "      <th>BasketGiven</th>\n",
       "      <th>TournamentChampion</th>\n",
       "      <th>Runner-up</th>\n",
       "      <th>TeamLaunch</th>\n",
       "      <th>HighestPositionHeld</th>\n",
       "    </tr>\n",
       "    <tr>\n",
       "      <th>Team</th>\n",
       "      <th></th>\n",
       "      <th></th>\n",
       "      <th></th>\n",
       "      <th></th>\n",
       "      <th></th>\n",
       "      <th></th>\n",
       "      <th></th>\n",
       "      <th></th>\n",
       "      <th></th>\n",
       "      <th></th>\n",
       "      <th></th>\n",
       "      <th></th>\n",
       "    </tr>\n",
       "  </thead>\n",
       "  <tbody>\n",
       "    <tr>\n",
       "      <th>Team 1</th>\n",
       "      <td>86</td>\n",
       "      <td>4385</td>\n",
       "      <td>2762</td>\n",
       "      <td>1647</td>\n",
       "      <td>552</td>\n",
       "      <td>563</td>\n",
       "      <td>5947</td>\n",
       "      <td>3140</td>\n",
       "      <td>33</td>\n",
       "      <td>23</td>\n",
       "      <td>1929</td>\n",
       "      <td>1</td>\n",
       "    </tr>\n",
       "    <tr>\n",
       "      <th>Team 2</th>\n",
       "      <td>86</td>\n",
       "      <td>4262</td>\n",
       "      <td>2762</td>\n",
       "      <td>1581</td>\n",
       "      <td>573</td>\n",
       "      <td>608</td>\n",
       "      <td>5900</td>\n",
       "      <td>3114</td>\n",
       "      <td>25</td>\n",
       "      <td>25</td>\n",
       "      <td>1929</td>\n",
       "      <td>1</td>\n",
       "    </tr>\n",
       "    <tr>\n",
       "      <th>Team 3</th>\n",
       "      <td>80</td>\n",
       "      <td>3442</td>\n",
       "      <td>2614</td>\n",
       "      <td>1241</td>\n",
       "      <td>598</td>\n",
       "      <td>775</td>\n",
       "      <td>4534</td>\n",
       "      <td>3309</td>\n",
       "      <td>10</td>\n",
       "      <td>8</td>\n",
       "      <td>1929</td>\n",
       "      <td>1</td>\n",
       "    </tr>\n",
       "    <tr>\n",
       "      <th>Team 4</th>\n",
       "      <td>82</td>\n",
       "      <td>3386</td>\n",
       "      <td>2664</td>\n",
       "      <td>1187</td>\n",
       "      <td>616</td>\n",
       "      <td>861</td>\n",
       "      <td>4398</td>\n",
       "      <td>3469</td>\n",
       "      <td>6</td>\n",
       "      <td>6</td>\n",
       "      <td>1931to32</td>\n",
       "      <td>1</td>\n",
       "    </tr>\n",
       "    <tr>\n",
       "      <th>Team 5</th>\n",
       "      <td>86</td>\n",
       "      <td>3368</td>\n",
       "      <td>2762</td>\n",
       "      <td>1209</td>\n",
       "      <td>633</td>\n",
       "      <td>920</td>\n",
       "      <td>4631</td>\n",
       "      <td>3700</td>\n",
       "      <td>8</td>\n",
       "      <td>7</td>\n",
       "      <td>1929</td>\n",
       "      <td>1</td>\n",
       "    </tr>\n",
       "  </tbody>\n",
       "</table>\n",
       "</div>"
      ],
      "text/plain": [
       "        Tournament Score PlayedGames WonGames DrawnGames LostGames  \\\n",
       "Team                                                                 \n",
       "Team 1          86  4385        2762     1647        552       563   \n",
       "Team 2          86  4262        2762     1581        573       608   \n",
       "Team 3          80  3442        2614     1241        598       775   \n",
       "Team 4          82  3386        2664     1187        616       861   \n",
       "Team 5          86  3368        2762     1209        633       920   \n",
       "\n",
       "       BasketScored BasketGiven TournamentChampion Runner-up TeamLaunch  \\\n",
       "Team                                                                      \n",
       "Team 1         5947        3140                 33        23       1929   \n",
       "Team 2         5900        3114                 25        25       1929   \n",
       "Team 3         4534        3309                 10         8       1929   \n",
       "Team 4         4398        3469                  6         6   1931to32   \n",
       "Team 5         4631        3700                  8         7       1929   \n",
       "\n",
       "        HighestPositionHeld  \n",
       "Team                         \n",
       "Team 1                    1  \n",
       "Team 2                    1  \n",
       "Team 3                    1  \n",
       "Team 4                    1  \n",
       "Team 5                    1  "
      ]
     },
     "execution_count": 2,
     "metadata": {},
     "output_type": "execute_result"
    }
   ],
   "source": [
    "df = pd.read_csv('Basketball.csv',index_col='Team')\n",
    "pd.set_option('display.max_columns',None)\n",
    "df.head()"
   ]
  },
  {
   "cell_type": "code",
   "execution_count": 3,
   "id": "6e360655",
   "metadata": {
    "scrolled": true
   },
   "outputs": [
    {
     "data": {
      "text/plain": [
       "Index(['Tournament', 'Score', 'PlayedGames', 'WonGames', 'DrawnGames',\n",
       "       'LostGames', 'BasketScored', 'BasketGiven', 'TournamentChampion',\n",
       "       'Runner-up', 'TeamLaunch', 'HighestPositionHeld'],\n",
       "      dtype='object')"
      ]
     },
     "execution_count": 3,
     "metadata": {},
     "output_type": "execute_result"
    }
   ],
   "source": [
    "df.columns"
   ]
  },
  {
   "cell_type": "code",
   "execution_count": 4,
   "id": "4d7da1ea",
   "metadata": {},
   "outputs": [
    {
     "data": {
      "text/plain": [
       "Tournament              int64\n",
       "Score                  object\n",
       "PlayedGames            object\n",
       "WonGames               object\n",
       "DrawnGames             object\n",
       "LostGames              object\n",
       "BasketScored           object\n",
       "BasketGiven            object\n",
       "TournamentChampion     object\n",
       "Runner-up              object\n",
       "TeamLaunch             object\n",
       "HighestPositionHeld     int64\n",
       "dtype: object"
      ]
     },
     "execution_count": 4,
     "metadata": {},
     "output_type": "execute_result"
    }
   ],
   "source": [
    "df.dtypes"
   ]
  },
  {
   "cell_type": "code",
   "execution_count": 5,
   "id": "0a127ee2",
   "metadata": {
    "scrolled": true
   },
   "outputs": [
    {
     "data": {
      "text/plain": [
       "Tournament             0\n",
       "Score                  0\n",
       "PlayedGames            0\n",
       "WonGames               0\n",
       "DrawnGames             0\n",
       "LostGames              0\n",
       "BasketScored           0\n",
       "BasketGiven            0\n",
       "TournamentChampion     0\n",
       "Runner-up              0\n",
       "TeamLaunch             0\n",
       "HighestPositionHeld    0\n",
       "dtype: int64"
      ]
     },
     "execution_count": 5,
     "metadata": {},
     "output_type": "execute_result"
    }
   ],
   "source": [
    "df.isnull().sum()"
   ]
  },
  {
   "cell_type": "code",
   "execution_count": 7,
   "id": "3f8ae179",
   "metadata": {},
   "outputs": [],
   "source": [
    "def convert(a):\n",
    "    if a == '-':\n",
    "        return 0\n",
    "    else:\n",
    "        return int(a)"
   ]
  },
  {
   "cell_type": "code",
   "execution_count": 11,
   "id": "c94ee17e",
   "metadata": {},
   "outputs": [],
   "source": [
    "df[['Tournament', 'Score', 'PlayedGames', 'WonGames', 'DrawnGames','LostGames', 'BasketScored', 'BasketGiven',\n",
    "    'TournamentChampion','Runner-up']]= df[['Tournament', 'Score', 'PlayedGames', 'WonGames', 'DrawnGames','LostGames', 'BasketScored', 'BasketGiven',\n",
    "    'TournamentChampion','Runner-up']].applymap(convert)"
   ]
  },
  {
   "cell_type": "code",
   "execution_count": 12,
   "id": "0d94bca8",
   "metadata": {},
   "outputs": [
    {
     "data": {
      "text/html": [
       "<div>\n",
       "<style scoped>\n",
       "    .dataframe tbody tr th:only-of-type {\n",
       "        vertical-align: middle;\n",
       "    }\n",
       "\n",
       "    .dataframe tbody tr th {\n",
       "        vertical-align: top;\n",
       "    }\n",
       "\n",
       "    .dataframe thead th {\n",
       "        text-align: right;\n",
       "    }\n",
       "</style>\n",
       "<table border=\"1\" class=\"dataframe\">\n",
       "  <thead>\n",
       "    <tr style=\"text-align: right;\">\n",
       "      <th></th>\n",
       "      <th>Tournament</th>\n",
       "      <th>Score</th>\n",
       "      <th>PlayedGames</th>\n",
       "      <th>WonGames</th>\n",
       "      <th>DrawnGames</th>\n",
       "      <th>LostGames</th>\n",
       "      <th>BasketScored</th>\n",
       "      <th>BasketGiven</th>\n",
       "      <th>TournamentChampion</th>\n",
       "      <th>Runner-up</th>\n",
       "      <th>TeamLaunch</th>\n",
       "      <th>HighestPositionHeld</th>\n",
       "    </tr>\n",
       "    <tr>\n",
       "      <th>Team</th>\n",
       "      <th></th>\n",
       "      <th></th>\n",
       "      <th></th>\n",
       "      <th></th>\n",
       "      <th></th>\n",
       "      <th></th>\n",
       "      <th></th>\n",
       "      <th></th>\n",
       "      <th></th>\n",
       "      <th></th>\n",
       "      <th></th>\n",
       "      <th></th>\n",
       "    </tr>\n",
       "  </thead>\n",
       "  <tbody>\n",
       "    <tr>\n",
       "      <th>Team 1</th>\n",
       "      <td>86</td>\n",
       "      <td>4385</td>\n",
       "      <td>2762</td>\n",
       "      <td>1647</td>\n",
       "      <td>552</td>\n",
       "      <td>563</td>\n",
       "      <td>5947</td>\n",
       "      <td>3140</td>\n",
       "      <td>33</td>\n",
       "      <td>23</td>\n",
       "      <td>1929</td>\n",
       "      <td>1</td>\n",
       "    </tr>\n",
       "    <tr>\n",
       "      <th>Team 2</th>\n",
       "      <td>86</td>\n",
       "      <td>4262</td>\n",
       "      <td>2762</td>\n",
       "      <td>1581</td>\n",
       "      <td>573</td>\n",
       "      <td>608</td>\n",
       "      <td>5900</td>\n",
       "      <td>3114</td>\n",
       "      <td>25</td>\n",
       "      <td>25</td>\n",
       "      <td>1929</td>\n",
       "      <td>1</td>\n",
       "    </tr>\n",
       "    <tr>\n",
       "      <th>Team 3</th>\n",
       "      <td>80</td>\n",
       "      <td>3442</td>\n",
       "      <td>2614</td>\n",
       "      <td>1241</td>\n",
       "      <td>598</td>\n",
       "      <td>775</td>\n",
       "      <td>4534</td>\n",
       "      <td>3309</td>\n",
       "      <td>10</td>\n",
       "      <td>8</td>\n",
       "      <td>1929</td>\n",
       "      <td>1</td>\n",
       "    </tr>\n",
       "    <tr>\n",
       "      <th>Team 4</th>\n",
       "      <td>82</td>\n",
       "      <td>3386</td>\n",
       "      <td>2664</td>\n",
       "      <td>1187</td>\n",
       "      <td>616</td>\n",
       "      <td>861</td>\n",
       "      <td>4398</td>\n",
       "      <td>3469</td>\n",
       "      <td>6</td>\n",
       "      <td>6</td>\n",
       "      <td>1931to32</td>\n",
       "      <td>1</td>\n",
       "    </tr>\n",
       "    <tr>\n",
       "      <th>Team 5</th>\n",
       "      <td>86</td>\n",
       "      <td>3368</td>\n",
       "      <td>2762</td>\n",
       "      <td>1209</td>\n",
       "      <td>633</td>\n",
       "      <td>920</td>\n",
       "      <td>4631</td>\n",
       "      <td>3700</td>\n",
       "      <td>8</td>\n",
       "      <td>7</td>\n",
       "      <td>1929</td>\n",
       "      <td>1</td>\n",
       "    </tr>\n",
       "    <tr>\n",
       "      <th>...</th>\n",
       "      <td>...</td>\n",
       "      <td>...</td>\n",
       "      <td>...</td>\n",
       "      <td>...</td>\n",
       "      <td>...</td>\n",
       "      <td>...</td>\n",
       "      <td>...</td>\n",
       "      <td>...</td>\n",
       "      <td>...</td>\n",
       "      <td>...</td>\n",
       "      <td>...</td>\n",
       "      <td>...</td>\n",
       "    </tr>\n",
       "    <tr>\n",
       "      <th>Team 57</th>\n",
       "      <td>1</td>\n",
       "      <td>34</td>\n",
       "      <td>38</td>\n",
       "      <td>8</td>\n",
       "      <td>10</td>\n",
       "      <td>20</td>\n",
       "      <td>38</td>\n",
       "      <td>66</td>\n",
       "      <td>0</td>\n",
       "      <td>0</td>\n",
       "      <td>2009-10</td>\n",
       "      <td>20</td>\n",
       "    </tr>\n",
       "    <tr>\n",
       "      <th>Team 58</th>\n",
       "      <td>1</td>\n",
       "      <td>22</td>\n",
       "      <td>30</td>\n",
       "      <td>7</td>\n",
       "      <td>8</td>\n",
       "      <td>15</td>\n",
       "      <td>37</td>\n",
       "      <td>57</td>\n",
       "      <td>0</td>\n",
       "      <td>0</td>\n",
       "      <td>1956-57</td>\n",
       "      <td>16</td>\n",
       "    </tr>\n",
       "    <tr>\n",
       "      <th>Team 59</th>\n",
       "      <td>1</td>\n",
       "      <td>19</td>\n",
       "      <td>30</td>\n",
       "      <td>7</td>\n",
       "      <td>5</td>\n",
       "      <td>18</td>\n",
       "      <td>51</td>\n",
       "      <td>85</td>\n",
       "      <td>0</td>\n",
       "      <td>0</td>\n",
       "      <td>1951~52</td>\n",
       "      <td>16</td>\n",
       "    </tr>\n",
       "    <tr>\n",
       "      <th>Team 60</th>\n",
       "      <td>1</td>\n",
       "      <td>14</td>\n",
       "      <td>30</td>\n",
       "      <td>5</td>\n",
       "      <td>4</td>\n",
       "      <td>21</td>\n",
       "      <td>34</td>\n",
       "      <td>65</td>\n",
       "      <td>0</td>\n",
       "      <td>0</td>\n",
       "      <td>1955-56</td>\n",
       "      <td>15</td>\n",
       "    </tr>\n",
       "    <tr>\n",
       "      <th>Team 61</th>\n",
       "      <td>1</td>\n",
       "      <td>0</td>\n",
       "      <td>0</td>\n",
       "      <td>0</td>\n",
       "      <td>0</td>\n",
       "      <td>0</td>\n",
       "      <td>0</td>\n",
       "      <td>0</td>\n",
       "      <td>0</td>\n",
       "      <td>0</td>\n",
       "      <td>2017~18</td>\n",
       "      <td>9</td>\n",
       "    </tr>\n",
       "  </tbody>\n",
       "</table>\n",
       "<p>61 rows × 12 columns</p>\n",
       "</div>"
      ],
      "text/plain": [
       "         Tournament  Score  PlayedGames  WonGames  DrawnGames  LostGames  \\\n",
       "Team                                                                       \n",
       "Team 1           86   4385         2762      1647         552        563   \n",
       "Team 2           86   4262         2762      1581         573        608   \n",
       "Team 3           80   3442         2614      1241         598        775   \n",
       "Team 4           82   3386         2664      1187         616        861   \n",
       "Team 5           86   3368         2762      1209         633        920   \n",
       "...             ...    ...          ...       ...         ...        ...   \n",
       "Team 57           1     34           38         8          10         20   \n",
       "Team 58           1     22           30         7           8         15   \n",
       "Team 59           1     19           30         7           5         18   \n",
       "Team 60           1     14           30         5           4         21   \n",
       "Team 61           1      0            0         0           0          0   \n",
       "\n",
       "         BasketScored  BasketGiven  TournamentChampion  Runner-up TeamLaunch  \\\n",
       "Team                                                                           \n",
       "Team 1           5947         3140                  33         23       1929   \n",
       "Team 2           5900         3114                  25         25       1929   \n",
       "Team 3           4534         3309                  10          8       1929   \n",
       "Team 4           4398         3469                   6          6   1931to32   \n",
       "Team 5           4631         3700                   8          7       1929   \n",
       "...               ...          ...                 ...        ...        ...   \n",
       "Team 57            38           66                   0          0    2009-10   \n",
       "Team 58            37           57                   0          0    1956-57   \n",
       "Team 59            51           85                   0          0    1951~52   \n",
       "Team 60            34           65                   0          0    1955-56   \n",
       "Team 61             0            0                   0          0    2017~18   \n",
       "\n",
       "         HighestPositionHeld  \n",
       "Team                          \n",
       "Team 1                     1  \n",
       "Team 2                     1  \n",
       "Team 3                     1  \n",
       "Team 4                     1  \n",
       "Team 5                     1  \n",
       "...                      ...  \n",
       "Team 57                   20  \n",
       "Team 58                   16  \n",
       "Team 59                   16  \n",
       "Team 60                   15  \n",
       "Team 61                    9  \n",
       "\n",
       "[61 rows x 12 columns]"
      ]
     },
     "execution_count": 12,
     "metadata": {},
     "output_type": "execute_result"
    }
   ],
   "source": [
    "df"
   ]
  },
  {
   "cell_type": "code",
   "execution_count": 13,
   "id": "f2d1db46",
   "metadata": {},
   "outputs": [
    {
     "data": {
      "text/plain": [
       "Tournament              int64\n",
       "Score                   int64\n",
       "PlayedGames             int64\n",
       "WonGames                int64\n",
       "DrawnGames              int64\n",
       "LostGames               int64\n",
       "BasketScored            int64\n",
       "BasketGiven             int64\n",
       "TournamentChampion      int64\n",
       "Runner-up               int64\n",
       "TeamLaunch             object\n",
       "HighestPositionHeld     int64\n",
       "dtype: object"
      ]
     },
     "execution_count": 13,
     "metadata": {},
     "output_type": "execute_result"
    }
   ],
   "source": [
    "df.dtypes"
   ]
  },
  {
   "cell_type": "code",
   "execution_count": 17,
   "id": "754e978d",
   "metadata": {},
   "outputs": [],
   "source": [
    "def convert_team_launch(year):\n",
    "    if 'to' in year:\n",
    "        start, end = year.split('to')\n",
    "        return f\"{start.strip()}-{end.strip()}\"\n",
    "    elif '-' in year:\n",
    "        start, end = year.split('-')\n",
    "        return f\"{start.strip()}-{end.strip()}\"\n",
    "    elif '_' in year:\n",
    "        start, end = year.split('_')\n",
    "        return f\"{start.strip()}-{end.strip()}\"\n",
    "    elif '~' in year:\n",
    "        start, end = year.split('~')\n",
    "        return f\"{start.strip()}-{end.strip()}\"\n",
    "    else:\n",
    "        return year.strip()\n",
    "\n",
    "df['TeamLaunch'] = df['TeamLaunch'].apply(convert_team_launch)"
   ]
  },
  {
   "cell_type": "code",
   "execution_count": 18,
   "id": "59f5aae5",
   "metadata": {},
   "outputs": [
    {
     "data": {
      "text/plain": [
       "Team\n",
       "Team 1        1929\n",
       "Team 2        1929\n",
       "Team 3        1929\n",
       "Team 4     1931-32\n",
       "Team 5        1929\n",
       "            ...   \n",
       "Team 57    2009-10\n",
       "Team 58    1956-57\n",
       "Team 59    1951-52\n",
       "Team 60    1955-56\n",
       "Team 61    2017-18\n",
       "Name: TeamLaunch, Length: 61, dtype: object"
      ]
     },
     "execution_count": 18,
     "metadata": {},
     "output_type": "execute_result"
    }
   ],
   "source": [
    "df['TeamLaunch']"
   ]
  },
  {
   "cell_type": "markdown",
   "id": "9bf7c366",
   "metadata": {},
   "source": [
    "### 2. Perform detailed statistical analysis and EDA using univariate, bi-variate and  multivariate EDA techniques to get data driven insights on recommending which teams they can approach which will be a deal win for them.. Also as a data and statistics expert you have to develop a detailed performance report using this data."
   ]
  },
  {
   "cell_type": "markdown",
   "id": "79936a04",
   "metadata": {},
   "source": [
    "#### Univariate Analysis"
   ]
  },
  {
   "cell_type": "code",
   "execution_count": 22,
   "id": "a486c4cd",
   "metadata": {},
   "outputs": [
    {
     "name": "stderr",
     "output_type": "stream",
     "text": [
      "C:\\Users\\Girish\\anaconda3\\lib\\site-packages\\seaborn\\_decorators.py:36: FutureWarning: Pass the following variable as a keyword arg: x. From version 0.12, the only valid positional argument will be `data`, and passing other arguments without an explicit keyword will result in an error or misinterpretation.\n",
      "  warnings.warn(\n"
     ]
    },
    {
     "data": {
      "text/plain": [
       "<function matplotlib.pyplot.show(close=None, block=None)>"
      ]
     },
     "execution_count": 22,
     "metadata": {},
     "output_type": "execute_result"
    },
    {
     "data": {
      "image/png": "[encoded data removed]",
      "text/plain": [
       "<Figure size 640x480 with 1 Axes>"
      ]
     },
     "metadata": {},
     "output_type": "display_data"
    },
    {
     "data": {
      "text/plain": [
       "<Figure size 2000x800 with 0 Axes>"
      ]
     },
     "metadata": {},
     "output_type": "display_data"
    }
   ],
   "source": [
    "# Tournament Count\n",
    "\n",
    "sns.countplot(df['Tournament'])\n",
    "plt.xlabel('Team')\n",
    "plt.ylabel('Number of Tournaments')\n",
    "plt.title('Participation of Teams in Tournaments')\n",
    "plt.figure(figsize=(20,8))\n",
    "plt.show"
   ]
  },
  {
   "cell_type": "code",
   "execution_count": null,
   "id": "031c5709",
   "metadata": {},
   "outputs": [],
   "source": [
    "    "
   ]
  }
 ],
 "metadata": {
  "kernelspec": {
   "display_name": "Python 3 (ipykernel)",
   "language": "python",
   "name": "python3"
  },
  "language_info": {
   "codemirror_mode": {
    "name": "ipython",
    "version": 3
   },
   "file_extension": ".py",
   "mimetype": "text/x-python",
   "name": "python",
   "nbconvert_exporter": "python",
   "pygments_lexer": "ipython3",
   "version": "3.9.13"
  }
 },
 "nbformat": 4,
 "nbformat_minor": 5
}
